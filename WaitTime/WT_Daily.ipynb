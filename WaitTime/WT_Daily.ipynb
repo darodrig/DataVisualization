{
 "cells": [
  {
   "cell_type": "code",
   "execution_count": 1,
   "metadata": {
    "collapsed": true
   },
   "outputs": [
    {
     "ename": "ModuleNotFoundError",
     "evalue": "No module named 'WTData'",
     "output_type": "error",
     "traceback": [
      "\u001b[0;31m---------------------------------------------------------------------------\u001b[0m",
      "\u001b[0;31mModuleNotFoundError\u001b[0m                       Traceback (most recent call last)",
      "\u001b[0;32m<ipython-input-1-65a9caabc4b3>\u001b[0m in \u001b[0;36m<module>\u001b[0;34m()\u001b[0m\n\u001b[1;32m      2\u001b[0m \u001b[0;34m\u001b[0m\u001b[0m\n\u001b[1;32m      3\u001b[0m \u001b[0;32mfrom\u001b[0m \u001b[0mbokeh\u001b[0m\u001b[0;34m.\u001b[0m\u001b[0mplotting\u001b[0m \u001b[0;32mimport\u001b[0m \u001b[0mfigure\u001b[0m\u001b[0;34m,\u001b[0m \u001b[0moutput_file\u001b[0m\u001b[0;34m,\u001b[0m \u001b[0mshow\u001b[0m\u001b[0;34m\u001b[0m\u001b[0m\n\u001b[0;32m----> 4\u001b[0;31m \u001b[0;32mimport\u001b[0m \u001b[0mWTData\u001b[0m\u001b[0;34m\u001b[0m\u001b[0m\n\u001b[0m\u001b[1;32m      5\u001b[0m \u001b[0;32mimport\u001b[0m \u001b[0mTimeData\u001b[0m\u001b[0;34m\u001b[0m\u001b[0m\n\u001b[1;32m      6\u001b[0m \u001b[0;34m\u001b[0m\u001b[0m\n",
      "\u001b[0;31mModuleNotFoundError\u001b[0m: No module named 'WTData'"
     ]
    }
   ],
   "source": [
    "from bokeh.plotting import figure, output_file, show\n",
    "from bokeh.models.glyphs import Line as Line_glyph\n",
    "from bokeh.models import Range1d\n",
    "from bokeh.models import BoxAnnotation\n",
    "import numpy as np\n",
    "\n",
    "output_file(\"WTDaily.html\")\n",
    "\n",
    "#Data Set\n",
    ">>>import WTData\n",
    ">>>import TimeData\n",
    "x = TimeData\n",
    "y = WTData\n",
    "\n",
    "#calculate median : numpy\n",
    "def median(WTData):\n",
    "    WT_median = np.median(WTData)\n",
    "    if WT_median >= 3:\n",
    "        WT_median_color = \"green\"\n",
    "    else: \n",
    "        WT_median_color = \"red\"\n",
    "\n",
    "#Figure\n",
    "p = figure(plot_width=400, plot_height=400,title=\"Wait Time Daily\", \n",
    "           xlabel=\"Class Duration\", ylabel=\"Wait Time\")\n",
    "p.inverted_triangle(x, y,size=15, color=\"navy\", alpha=0.5)\n",
    "p.grid.grid_line_color = None\n",
    "p.background_fill_color = \"white\"\n",
    "p.y_range = Range1d(0, 11)\n",
    "p.x_range = Range1d(0,x[-1])\n",
    "\n",
    "#background fill color : Box Annotations\n",
    "Box Annotations\n",
    "GoodWT = BoxAnnotation(bottom=3, top=10, fill_alpha=0.1, fill_color='green')\n",
    "BadWT = BoxAnnotation(top=3, fill_alpha=0.1, fill_color='red')\n",
    "\n",
    ">>> line colors need to be figured out\n",
    "\n",
    "#median line : LineGlyph \n",
    "M_L_glyph = Line_glyph(x=[0,x[-1]], y=[WT_median,WT_median], line_color='WT_median_color', line_width=2)\n",
    "p.add_Mglyph(source, glyph)\n",
    "\n",
    "#ideal line : LineGlyph\n",
    "I_L_glyph = Line_glyph([0,x[-1]],[3,3], line_color='green', line_width=2)\n",
    "p.add_Iglyph(source, glyph)\n",
    "\n",
    "show(p)"
   ]
  },
  {
   "cell_type": "code",
   "execution_count": null,
   "metadata": {
    "collapsed": true
   },
   "outputs": [],
   "source": []
  }
 ],
 "metadata": {
  "kernelspec": {
   "display_name": "Python 3",
   "language": "python",
   "name": "python3"
  },
  "language_info": {
   "codemirror_mode": {
    "name": "ipython",
    "version": 3
   },
   "file_extension": ".py",
   "mimetype": "text/x-python",
   "name": "python",
   "nbconvert_exporter": "python",
   "pygments_lexer": "ipython3",
   "version": "3.6.3"
  }
 },
 "nbformat": 4,
 "nbformat_minor": 2
}
